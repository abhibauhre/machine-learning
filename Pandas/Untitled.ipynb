{
 "cells": [
  {
   "cell_type": "code",
   "execution_count": null,
   "id": "8310956f-976c-4adf-8b3f-237441cec0fc",
   "metadata": {},
   "outputs": [],
   "source": []
  }
 ],
 "metadata": {
  "kernelspec": {
   "display_name": "",
   "name": ""
  },
  "language_info": {
   "name": ""
  }
 },
 "nbformat": 4,
 "nbformat_minor": 5
}
