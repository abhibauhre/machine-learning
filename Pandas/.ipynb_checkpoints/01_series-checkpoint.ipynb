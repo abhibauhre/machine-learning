{
 "cells": [
  {
   "cell_type": "code",
   "execution_count": 1,
   "id": "4603dc33-1b07-4a22-83bd-7bd0648482eb",
   "metadata": {},
   "outputs": [],
   "source": [
    "import numpy as np"
   ]
  },
  {
   "cell_type": "code",
   "execution_count": 2,
   "id": "4833b412-0047-4f3e-9051-d8cfd49a1ac5",
   "metadata": {},
   "outputs": [],
   "source": [
    "import pandas as pd"
   ]
  },
  {
   "cell_type": "code",
   "execution_count": 3,
   "id": "11f059e6-c041-4839-9e43-5723ca0c87ba",
   "metadata": {},
   "outputs": [],
   "source": [
    "my_index = ['india','usa','japan']"
   ]
  },
  {
   "cell_type": "code",
   "execution_count": 4,
   "id": "a8522622-b305-4c40-92ba-50b0fdb44310",
   "metadata": {},
   "outputs": [],
   "source": [
    "my_data = [1666,1777,1980]"
   ]
  },
  {
   "cell_type": "code",
   "execution_count": 7,
   "id": "30b01e37-ddb8-44d3-b30d-c9652d2214ec",
   "metadata": {},
   "outputs": [
    {
     "data": {
      "text/plain": [
       "india    1666\n",
       "usa      1777\n",
       "japan    1980\n",
       "dtype: int64"
      ]
     },
     "execution_count": 7,
     "metadata": {},
     "output_type": "execute_result"
    }
   ],
   "source": [
    "my_ser = pd.Series(my_data,my_index)\n",
    "my_ser"
   ]
  },
  {
   "cell_type": "code",
   "execution_count": 8,
   "id": "11026596-e9bf-45f0-b391-50549f9e48b6",
   "metadata": {},
   "outputs": [
    {
     "name": "stderr",
     "output_type": "stream",
     "text": [
      "C:\\Users\\abhib\\AppData\\Local\\Temp\\ipykernel_2592\\3347339215.py:1: FutureWarning: Series.__getitem__ treating keys as positions is deprecated. In a future version, integer keys will always be treated as labels (consistent with DataFrame behavior). To access a value by position, use `ser.iloc[pos]`\n",
      "  my_ser[0]\n"
     ]
    },
    {
     "data": {
      "text/plain": [
       "np.int64(1666)"
      ]
     },
     "execution_count": 8,
     "metadata": {},
     "output_type": "execute_result"
    }
   ],
   "source": [
    "my_ser[0]"
   ]
  },
  {
   "cell_type": "code",
   "execution_count": 9,
   "id": "8cd967c5-6fcd-472d-aeb3-233890f8eb82",
   "metadata": {},
   "outputs": [
    {
     "data": {
      "text/plain": [
       "np.int64(1666)"
      ]
     },
     "execution_count": 9,
     "metadata": {},
     "output_type": "execute_result"
    }
   ],
   "source": [
    "my_ser['india']"
   ]
  },
  {
   "cell_type": "code",
   "execution_count": 10,
   "id": "07198585-7430-42cb-b105-6d6ac2287662",
   "metadata": {},
   "outputs": [],
   "source": [
    "fruits = {'banana':57,'apple':56,'guave':77}"
   ]
  },
  {
   "cell_type": "code",
   "execution_count": 11,
   "id": "b7f9695f-3302-447f-b9ec-0622b6553353",
   "metadata": {},
   "outputs": [
    {
     "data": {
      "text/plain": [
       "banana    57\n",
       "apple     56\n",
       "guave     77\n",
       "dtype: int64"
      ]
     },
     "execution_count": 11,
     "metadata": {},
     "output_type": "execute_result"
    }
   ],
   "source": [
    "pd.Series(fruits)"
   ]
  },
  {
   "cell_type": "code",
   "execution_count": 12,
   "id": "54a197e1-732f-49e7-a7fb-f5b339360d10",
   "metadata": {},
   "outputs": [],
   "source": [
    "q1 = {'Japan': 80, 'China': 450, 'India': 200, 'USA': 250}\n",
    "q2 = {'Brazil': 100,'China': 500, 'India': 210,'USA': 260}"
   ]
  },
  {
   "cell_type": "code",
   "execution_count": 13,
   "id": "d7e74b18-58d1-417a-80b3-363f895517e0",
   "metadata": {},
   "outputs": [],
   "source": [
    "q1_sales = pd.Series(q1)\n",
    "q2_sales = pd.Series(q2)"
   ]
  },
  {
   "cell_type": "code",
   "execution_count": 14,
   "id": "7cb0a33c-425e-4d4b-aae6-a949c9133aa6",
   "metadata": {},
   "outputs": [
    {
     "data": {
      "text/plain": [
       "Japan     80\n",
       "China    450\n",
       "India    200\n",
       "USA      250\n",
       "dtype: int64"
      ]
     },
     "execution_count": 14,
     "metadata": {},
     "output_type": "execute_result"
    }
   ],
   "source": [
    "q1_sales"
   ]
  },
  {
   "cell_type": "code",
   "execution_count": 15,
   "id": "d3f4c052-215c-4a03-974e-feecfb4af011",
   "metadata": {},
   "outputs": [
    {
     "data": {
      "text/plain": [
       "Brazil    100\n",
       "China     500\n",
       "India     210\n",
       "USA       260\n",
       "dtype: int64"
      ]
     },
     "execution_count": 15,
     "metadata": {},
     "output_type": "execute_result"
    }
   ],
   "source": [
    "q2_sales"
   ]
  },
  {
   "cell_type": "code",
   "execution_count": 16,
   "id": "08ba50d5-997a-4feb-a855-2b83aa9b0326",
   "metadata": {},
   "outputs": [
    {
     "data": {
      "text/plain": [
       "Japan    160\n",
       "China    900\n",
       "India    400\n",
       "USA      500\n",
       "dtype: int64"
      ]
     },
     "execution_count": 16,
     "metadata": {},
     "output_type": "execute_result"
    }
   ],
   "source": [
    "q1_sales * 2 #we can do opereation on pandas series"
   ]
  },
  {
   "cell_type": "code",
   "execution_count": 17,
   "id": "ec57b585-d531-4641-90fb-f2a2a8ab01f0",
   "metadata": {},
   "outputs": [
    {
     "data": {
      "text/plain": [
       "Brazil      NaN\n",
       "China     950.0\n",
       "India     410.0\n",
       "Japan       NaN\n",
       "USA       510.0\n",
       "dtype: float64"
      ]
     },
     "execution_count": 17,
     "metadata": {},
     "output_type": "execute_result"
    }
   ],
   "source": [
    "q1_sales + q2_sales "
   ]
  },
  {
   "cell_type": "code",
   "execution_count": 19,
   "id": "dfc5000c-63ee-41f0-895c-70edca9dcb8e",
   "metadata": {},
   "outputs": [
    {
     "data": {
      "text/plain": [
       "Brazil    100.0\n",
       "China     950.0\n",
       "India     410.0\n",
       "Japan      80.0\n",
       "USA       510.0\n",
       "dtype: float64"
      ]
     },
     "execution_count": 19,
     "metadata": {},
     "output_type": "execute_result"
    }
   ],
   "source": [
    "q1_sales.add(q2_sales,fill_value= 0)#fill_value is a parameter it solve the problem of NaN it add the zero to data values"
   ]
  },
  {
   "cell_type": "code",
   "execution_count": 22,
   "id": "272cccb8-8bdd-4d7b-a9d5-3cd96adc53b5",
   "metadata": {},
   "outputs": [
    {
     "data": {
      "text/plain": [
       "dtype('int64')"
      ]
     },
     "execution_count": 22,
     "metadata": {},
     "output_type": "execute_result"
    }
   ],
   "source": [
    "q1_sales.dtype"
   ]
  },
  {
   "cell_type": "code",
   "execution_count": 23,
   "id": "15e80e69-ba4a-40e2-b195-67e2030697f0",
   "metadata": {},
   "outputs": [
    {
     "data": {
      "text/plain": [
       "pandas.core.series.Series"
      ]
     },
     "execution_count": 23,
     "metadata": {},
     "output_type": "execute_result"
    }
   ],
   "source": [
    "pd.Series"
   ]
  },
  {
   "cell_type": "code",
   "execution_count": null,
   "id": "7da21600-c5d2-4269-a096-abc6bf706610",
   "metadata": {},
   "outputs": [],
   "source": []
  }
 ],
 "metadata": {
  "kernelspec": {
   "display_name": "Python 3 (ipykernel)",
   "language": "python",
   "name": "python3"
  },
  "language_info": {
   "codemirror_mode": {
    "name": "ipython",
    "version": 3
   },
   "file_extension": ".py",
   "mimetype": "text/x-python",
   "name": "python",
   "nbconvert_exporter": "python",
   "pygments_lexer": "ipython3",
   "version": "3.11.14"
  }
 },
 "nbformat": 4,
 "nbformat_minor": 5
}
