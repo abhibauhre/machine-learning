{
 "cells": [
  {
   "cell_type": "code",
   "execution_count": 13,
   "id": "8574043b-8d15-4125-b648-4124198748d3",
   "metadata": {},
   "outputs": [],
   "source": [
    "import numpy as py"
   ]
  },
  {
   "cell_type": "code",
   "execution_count": 14,
   "id": "98e64da9-ba56-435c-9f47-a3ec8a73ece3",
   "metadata": {},
   "outputs": [
    {
     "data": {
      "text/plain": [
       "[1, 2, 3, 4]"
      ]
     },
     "execution_count": 14,
     "metadata": {},
     "output_type": "execute_result"
    }
   ],
   "source": [
    "my_list = [1,2,3,4]\n",
    "my_list"
   ]
  },
  {
   "cell_type": "code",
   "execution_count": 15,
   "id": "3c34c681-5ab2-4b2a-be09-1e0acdd31c99",
   "metadata": {},
   "outputs": [
    {
     "data": {
      "text/plain": [
       "list"
      ]
     },
     "execution_count": 15,
     "metadata": {},
     "output_type": "execute_result"
    }
   ],
   "source": [
    "type(my_list)"
   ]
  },
  {
   "cell_type": "code",
   "execution_count": 27,
   "id": "48da71be-f3a6-482a-9f5a-e857dad608be",
   "metadata": {},
   "outputs": [
    {
     "data": {
      "text/plain": [
       "array([1, 2, 3, 4])"
      ]
     },
     "execution_count": 27,
     "metadata": {},
     "output_type": "execute_result"
    }
   ],
   "source": [
    "np.array(my_list)"
   ]
  },
  {
   "cell_type": "code",
   "execution_count": 28,
   "id": "804c2890-aa78-4277-9af2-4c7c74e59a2f",
   "metadata": {},
   "outputs": [
    {
     "data": {
      "text/plain": [
       "array([1, 2, 3, 4])"
      ]
     },
     "execution_count": 28,
     "metadata": {},
     "output_type": "execute_result"
    }
   ],
   "source": [
    "my_arr = np.array(my_list)\n",
    "my_arr"
   ]
  },
  {
   "cell_type": "code",
   "execution_count": 29,
   "id": "b2ff7d77-7fc7-4147-9762-6fe9f8ed659a",
   "metadata": {},
   "outputs": [
    {
     "data": {
      "text/plain": [
       "numpy.ndarray"
      ]
     },
     "execution_count": 29,
     "metadata": {},
     "output_type": "execute_result"
    }
   ],
   "source": [
    "type(my_arr)"
   ]
  },
  {
   "cell_type": "code",
   "execution_count": 30,
   "id": "08f8a241-451d-4a11-af22-b8bb4e9a9a1d",
   "metadata": {},
   "outputs": [
    {
     "data": {
      "text/plain": [
       "list"
      ]
     },
     "execution_count": 30,
     "metadata": {},
     "output_type": "execute_result"
    }
   ],
   "source": [
    "my_matrix = [[1,3,4 ],[1,4,5],[7,8,9]]\n",
    "type(my_matrix)"
   ]
  },
  {
   "cell_type": "code",
   "execution_count": 32,
   "id": "f984977c-07ab-48af-8f42-a9d08f0cbc26",
   "metadata": {},
   "outputs": [
    {
     "data": {
      "text/plain": [
       "array([[1, 3, 4],\n",
       "       [1, 4, 5],\n",
       "       [7, 8, 9]])"
      ]
     },
     "execution_count": 32,
     "metadata": {},
     "output_type": "execute_result"
    }
   ],
   "source": [
    "mymatrix_arr = np.array(my_matrix)\n",
    "mymatrix_arr"
   ]
  },
  {
   "cell_type": "code",
   "execution_count": 33,
   "id": "03742c93-b293-46ef-a4c0-ef1e04b95ff4",
   "metadata": {},
   "outputs": [
    {
     "data": {
      "text/plain": [
       "array([0, 1, 2, 3, 4, 5, 6, 7, 8, 9])"
      ]
     },
     "execution_count": 33,
     "metadata": {},
     "output_type": "execute_result"
    }
   ],
   "source": [
    "np.arange(0,10)"
   ]
  },
  {
   "cell_type": "code",
   "execution_count": 34,
   "id": "45be72fd-9bf1-4b6d-9611-e51445d4288a",
   "metadata": {},
   "outputs": [
    {
     "data": {
      "text/plain": [
       "array([ 0,  2,  4,  6,  8, 10, 12, 14, 16, 18, 20, 22, 24, 26, 28, 30, 32,\n",
       "       34, 36, 38, 40, 42, 44, 46, 48, 50, 52, 54, 56, 58, 60, 62, 64, 66,\n",
       "       68, 70, 72, 74, 76, 78, 80, 82, 84, 86, 88, 90, 92, 94, 96, 98])"
      ]
     },
     "execution_count": 34,
     "metadata": {},
     "output_type": "execute_result"
    }
   ],
   "source": [
    "np.arange(0,100,2)"
   ]
  },
  {
   "cell_type": "code",
   "execution_count": 35,
   "id": "2269f9dc-659f-4bd2-97c5-6d0dad445855",
   "metadata": {},
   "outputs": [
    {
     "data": {
      "text/plain": [
       "array([0., 0., 0., 0., 0.])"
      ]
     },
     "execution_count": 35,
     "metadata": {},
     "output_type": "execute_result"
    }
   ],
   "source": [
    "np.zeros(5)#it produces 1 dimension vector of zeros"
   ]
  },
  {
   "cell_type": "code",
   "execution_count": 36,
   "id": "a7347b3e-5809-4293-9509-58f471ecb43e",
   "metadata": {},
   "outputs": [
    {
     "data": {
      "text/plain": [
       "array([1., 1., 1., 1., 1.])"
      ]
     },
     "execution_count": 36,
     "metadata": {},
     "output_type": "execute_result"
    }
   ],
   "source": [
    "np.ones(5)"
   ]
  },
  {
   "cell_type": "code",
   "execution_count": 37,
   "id": "2d401584-b184-41fa-af92-716f4e6b26b9",
   "metadata": {},
   "outputs": [
    {
     "data": {
      "text/plain": [
       "array([[0., 0., 0., 0., 0.],\n",
       "       [0., 0., 0., 0., 0.],\n",
       "       [0., 0., 0., 0., 0.],\n",
       "       [0., 0., 0., 0., 0.],\n",
       "       [0., 0., 0., 0., 0.]])"
      ]
     },
     "execution_count": 37,
     "metadata": {},
     "output_type": "execute_result"
    }
   ],
   "source": [
    "np.zeros((5,5))"
   ]
  },
  {
   "cell_type": "code",
   "execution_count": 38,
   "id": "c7ca8745-34e3-4199-86fe-4938fc6d2e8a",
   "metadata": {},
   "outputs": [
    {
     "data": {
      "text/plain": [
       "array([[1., 1., 1., 1., 1.]])"
      ]
     },
     "execution_count": 38,
     "metadata": {},
     "output_type": "execute_result"
    }
   ],
   "source": [
    "np.ones((1,5))"
   ]
  },
  {
   "cell_type": "code",
   "execution_count": 41,
   "id": "63569ba7-beba-4b3d-99fc-43e1142d1153",
   "metadata": {},
   "outputs": [
    {
     "data": {
      "text/plain": [
       "array([ 1.  ,  3.25,  5.5 ,  7.75, 10.  ])"
      ]
     },
     "execution_count": 41,
     "metadata": {},
     "output_type": "execute_result"
    }
   ],
   "source": [
    "np.linspace(1,10,5)#it give linearly space bw n to n-1 and last is how much space len\n"
   ]
  },
  {
   "cell_type": "code",
   "execution_count": 43,
   "id": "320d6dbf-c295-4c5e-be40-478fb20391cd",
   "metadata": {},
   "outputs": [
    {
     "data": {
      "text/plain": [
       "array([[1., 0., 0., 0., 0.],\n",
       "       [0., 1., 0., 0., 0.],\n",
       "       [0., 0., 1., 0., 0.],\n",
       "       [0., 0., 0., 1., 0.],\n",
       "       [0., 0., 0., 0., 1.]])"
      ]
     },
     "execution_count": 43,
     "metadata": {},
     "output_type": "execute_result"
    }
   ],
   "source": [
    "np.eye(5)#it give identity matrix "
   ]
  },
  {
   "cell_type": "code",
   "execution_count": 56,
   "id": "0f594022-4020-4444-b9c7-75e8f32366ba",
   "metadata": {},
   "outputs": [
    {
     "data": {
      "text/plain": [
       "array([[0.74814483, 0.31634274, 0.77523194],\n",
       "       [0.36261407, 0.52317491, 0.21847726],\n",
       "       [0.83674936, 0.42734529, 0.93584129],\n",
       "       [0.36031554, 0.86467841, 0.15777016],\n",
       "       [0.68807573, 0.36837054, 0.81799459]])"
      ]
     },
     "execution_count": 56,
     "metadata": {},
     "output_type": "execute_result"
    }
   ],
   "source": [
    "np.random.rand(5,3)#it print random value of 0 to 1 of 2d array# np.random.rand(d0, d1, ...) \n",
    "#   -> Generates random numbers **between 0 and 1** (uniform distribution)\n",
    "#   -> Numbers are equally likely anywhere in the range [0, 1)\n",
    "#   -> Example: np.random.rand(3) might give [0.12, 0.55, 0.99]"
   ]
  },
  {
   "cell_type": "code",
   "execution_count": 57,
   "id": "47b91dcd-ea96-4d3c-a025-9d7fa46dd52c",
   "metadata": {},
   "outputs": [
    {
     "data": {
      "text/plain": [
       "array([0.20193174, 0.18207615, 0.79122144, 0.29890022, 0.59869909])"
      ]
     },
     "execution_count": 57,
     "metadata": {},
     "output_type": "execute_result"
    }
   ],
   "source": [
    "np.random.rand(5)#it print value of 1 d array"
   ]
  },
  {
   "cell_type": "code",
   "execution_count": 58,
   "id": "003ba140-a9b5-4c51-8937-bd25e7c71547",
   "metadata": {},
   "outputs": [
    {
     "data": {
      "text/plain": [
       "array([-0.05644047, -0.02614031, -0.36574713, -2.10150656, -0.13277472])"
      ]
     },
     "execution_count": 58,
     "metadata": {},
     "output_type": "execute_result"
    }
   ],
   "source": [
    "np.random.randn(5,2)# np.random.randn(d0, d1, ...) \n",
    "#   -> Generates random numbers from **standard normal distribution** (Gaussian)\n",
    "#   -> Mean = 0, Standard Deviation = 1\n",
    "#   -> Most numbers are near 0, can be positive or negative\n",
    "#   -> Numbers are NOT limited to 0–1; some can be >1 or <-1\n",
    "#   -> Example: np.random.randn(5) might give [-0.45, 1.23, -0.89, 0.67, 0.12]\n",
    "#   -> Use scaling to get desired mean and std: new_array = mean + std * np.random.randn(size)"
   ]
  },
  {
   "cell_type": "code",
   "execution_count": 60,
   "id": "8bfe0fc8-cc4c-423a-9467-dd2046ac4b9f",
   "metadata": {},
   "outputs": [
    {
     "data": {
      "text/plain": [
       "array([59, 97,  8, 43, 42], dtype=int32)"
      ]
     },
     "execution_count": 60,
     "metadata": {},
     "output_type": "execute_result"
    }
   ],
   "source": [
    "np.random.randint(0,101,5)#it gives random number between 0 to 101"
   ]
  },
  {
   "cell_type": "code",
   "execution_count": 62,
   "id": "413e0f3d-01f8-4218-81f6-35c4a838fdef",
   "metadata": {},
   "outputs": [
    {
     "data": {
      "text/plain": [
       "array([[94, 76, 21, 54, 56],\n",
       "       [39, 20, 26, 53, 22]], dtype=int32)"
      ]
     },
     "execution_count": 62,
     "metadata": {},
     "output_type": "execute_result"
    }
   ],
   "source": [
    "np.random.randint(0,101,(2,5))# it print in 2d array"
   ]
  },
  {
   "cell_type": "code",
   "execution_count": 63,
   "id": "d29bebb5-b027-42c3-9e95-d68c621f770c",
   "metadata": {},
   "outputs": [
    {
     "data": {
      "text/plain": [
       "array([0.49460165, 0.2280831 , 0.25547392, 0.39632991, 0.3773151 ])"
      ]
     },
     "execution_count": 63,
     "metadata": {},
     "output_type": "execute_result"
    }
   ],
   "source": [
    "np.random.seed(50)#it give same random number always seed 50 has key to call same random number in other terminal\n",
    "np.random.rand(5)"
   ]
  },
  {
   "cell_type": "code",
   "execution_count": 72,
   "id": "1051488a-bc60-40b5-b8cd-7541268b2e21",
   "metadata": {},
   "outputs": [
    {
     "data": {
      "text/plain": [
       "array([[ 0,  1,  2,  3,  4],\n",
       "       [ 5,  6,  7,  8,  9],\n",
       "       [10, 11, 12, 13, 14],\n",
       "       [15, 16, 17, 18, 19],\n",
       "       [20, 21, 22, 23, 24]])"
      ]
     },
     "execution_count": 72,
     "metadata": {},
     "output_type": "execute_result"
    }
   ],
   "source": [
    "arr = np.arange(0,25)#it reshape all the array elements\n",
    "arr.reshape(5,5)"
   ]
  },
  {
   "cell_type": "code",
   "execution_count": 73,
   "id": "37773752-e953-44ef-a48d-af2c5ef3778f",
   "metadata": {},
   "outputs": [
    {
     "data": {
      "text/plain": [
       "array([68, 78, 35, 92, 91, 26, 90,  6, 20, 43], dtype=int32)"
      ]
     },
     "execution_count": 73,
     "metadata": {},
     "output_type": "execute_result"
    }
   ],
   "source": [
    "ranarr = np.random.randint(0,100,10)\n",
    "ranarr"
   ]
  },
  {
   "cell_type": "code",
   "execution_count": 77,
   "id": "66358322-6f85-4816-b786-84bdb5a392d2",
   "metadata": {},
   "outputs": [
    {
     "data": {
      "text/plain": [
       "np.int32(92)"
      ]
     },
     "execution_count": 77,
     "metadata": {},
     "output_type": "execute_result"
    }
   ],
   "source": [
    "ranarr.max()"
   ]
  },
  {
   "cell_type": "code",
   "execution_count": 78,
   "id": "bf568703-e89e-449b-8cc0-2c8390710f41",
   "metadata": {},
   "outputs": [
    {
     "data": {
      "text/plain": [
       "np.int32(6)"
      ]
     },
     "execution_count": 78,
     "metadata": {},
     "output_type": "execute_result"
    }
   ],
   "source": [
    "ranarr.min()"
   ]
  },
  {
   "cell_type": "code",
   "execution_count": 80,
   "id": "7859b6a1-6369-4d90-892e-9370c7939516",
   "metadata": {},
   "outputs": [
    {
     "data": {
      "text/plain": [
       "np.int64(3)"
      ]
     },
     "execution_count": 80,
     "metadata": {},
     "output_type": "execute_result"
    }
   ],
   "source": [
    "ranarr.argmax()"
   ]
  },
  {
   "cell_type": "code",
   "execution_count": 81,
   "id": "3ce75602-7cd1-4181-a4fc-45c340ec28e5",
   "metadata": {},
   "outputs": [
    {
     "data": {
      "text/plain": [
       "np.int64(7)"
      ]
     },
     "execution_count": 81,
     "metadata": {},
     "output_type": "execute_result"
    }
   ],
   "source": [
    "ranarr.argmin()"
   ]
  },
  {
   "cell_type": "code",
   "execution_count": 83,
   "id": "d4b2e733-92d8-4389-8de0-ec69e727953c",
   "metadata": {},
   "outputs": [
    {
     "data": {
      "text/plain": [
       "dtype('int32')"
      ]
     },
     "execution_count": 83,
     "metadata": {},
     "output_type": "execute_result"
    }
   ],
   "source": [
    "ranarr.dtype"
   ]
  },
  {
   "cell_type": "code",
   "execution_count": 84,
   "id": "149f1051-7ea2-41b9-bb3d-3d5fd2b9eab7",
   "metadata": {},
   "outputs": [
    {
     "data": {
      "text/plain": [
       "array([ 0,  1,  2,  3,  4,  5,  6,  7,  8,  9, 10, 11, 12, 13, 14, 15, 16,\n",
       "       17, 18, 19, 20, 21, 22, 23, 24])"
      ]
     },
     "execution_count": 84,
     "metadata": {},
     "output_type": "execute_result"
    }
   ],
   "source": [
    "arr"
   ]
  },
  {
   "cell_type": "code",
   "execution_count": 86,
   "id": "18e8462d-b1f3-4b06-adb9-5adb2188e2d2",
   "metadata": {},
   "outputs": [
    {
     "data": {
      "text/plain": [
       "(25,)"
      ]
     },
     "execution_count": 86,
     "metadata": {},
     "output_type": "execute_result"
    }
   ],
   "source": [
    "arr.shape"
   ]
  },
  {
   "cell_type": "code",
   "execution_count": 88,
   "id": "ca450ec9-6632-484e-b804-c4c508a8d4ba",
   "metadata": {},
   "outputs": [
    {
     "data": {
      "text/plain": [
       "array([[ 0,  1,  2,  3,  4],\n",
       "       [ 5,  6,  7,  8,  9],\n",
       "       [10, 11, 12, 13, 14],\n",
       "       [15, 16, 17, 18, 19],\n",
       "       [20, 21, 22, 23, 24]])"
      ]
     },
     "execution_count": 88,
     "metadata": {},
     "output_type": "execute_result"
    }
   ],
   "source": [
    "arr = arr.reshape(5,5)\n",
    "arr\n"
   ]
  },
  {
   "cell_type": "code",
   "execution_count": 89,
   "id": "e84dcf40-7d90-4985-9344-98786e417fe5",
   "metadata": {},
   "outputs": [
    {
     "data": {
      "text/plain": [
       "(5, 5)"
      ]
     },
     "execution_count": 89,
     "metadata": {},
     "output_type": "execute_result"
    }
   ],
   "source": [
    "arr.shape"
   ]
  }
 ],
 "metadata": {
  "kernelspec": {
   "display_name": "Python 3 (ipykernel)",
   "language": "python",
   "name": "python3"
  },
  "language_info": {
   "codemirror_mode": {
    "name": "ipython",
    "version": 3
   },
   "file_extension": ".py",
   "mimetype": "text/x-python",
   "name": "python",
   "nbconvert_exporter": "python",
   "pygments_lexer": "ipython3",
   "version": "3.11.14"
  }
 },
 "nbformat": 4,
 "nbformat_minor": 5
}
